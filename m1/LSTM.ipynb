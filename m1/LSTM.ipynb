{
 "cells": [
  {
   "cell_type": "markdown",
   "metadata": {},
   "source": [
    "# Problem: Implement an LSTM Model \n",
    "\n",
    "### Problem Statement\n",
    "You are tasked with implementing a simple **LSTM (Long Short-Term Memory)** model in PyTorch. The model should process sequential data using an LSTM layer followed by a fully connected (FC) layer. Your goal is to complete the model by defining the LSTM layer and implementing the forward pass.\n",
    "\n",
    "### Requirements\n",
    "1. **Define the LSTM Model**:\n",
    "   - Add an **LSTM layer** to the model. This layer should accept input sequences and output hidden states.\n",
    "   - Add a **fully connected (FC) layer** that maps the output of the LSTM to the final predictions.\n",
    "   - Implement the `forward` method to:\n",
    "     - Pass the input sequence through the LSTM.\n",
    "     - Feed the output of the LSTM into the fully connected layer for the final output.\n",
    "\n",
    "### Constraints\n",
    "- The LSTM layer should be implemented with a single hidden layer.\n",
    "- Use a suitable number of input features, hidden units, and output size for the task.\n",
    "- Make sure the `forward` method returns the output of the fully connected layer after processing the LSTM output.\n",
    "\n",
    "\n",
    "<details>\n",
    "  <summary>💡 Hint</summary>\n",
    "  Add the LSTM layer and FC layer in LSTMModel.__init__.\n",
    "  <br>\n",
    "  Implement the forward pass to process sequences using the LSTM and FC layers.\n",
    "</details>"
   ]
  },
  {
   "cell_type": "code",
   "metadata": {
    "ExecuteTime": {
     "end_time": "2025-02-15T12:55:31.127111Z",
     "start_time": "2025-02-15T12:55:07.121321Z"
    }
   },
   "source": [
    "import torch\n",
    "import torch.nn as nn\n",
    "import torch.optim as optim"
   ],
   "outputs": [],
   "execution_count": 1
  },
  {
   "cell_type": "code",
   "metadata": {
    "ExecuteTime": {
     "end_time": "2025-02-15T12:55:32.263191Z",
     "start_time": "2025-02-15T12:55:31.137084Z"
    }
   },
   "source": [
    "# Generate synthetic sequential data\n",
    "torch.manual_seed(42)\n",
    "sequence_length = 10\n",
    "num_samples = 100\n",
    "\n",
    "# Create a sine wave dataset\n",
    "X = torch.linspace(0, 4 * 3.14159, steps=num_samples).unsqueeze(1)\n",
    "y = torch.sin(X)\n",
    "\n",
    "# Prepare data for LSTM\n",
    "def create_in_out_sequences(data, seq_length):\n",
    "    in_seq = []\n",
    "    out_seq = []\n",
    "    for i in range(len(data) - seq_length):\n",
    "        in_seq.append(data[i:i + seq_length])\n",
    "        out_seq.append(data[i + seq_length])\n",
    "    return torch.stack(in_seq), torch.stack(out_seq)\n",
    "\n",
    "X_seq, y_seq = create_in_out_sequences(y, sequence_length)\n",
    "X_seq.shape, y_seq.shape"
   ],
   "outputs": [
    {
     "data": {
      "text/plain": [
       "(torch.Size([90, 10, 1]), torch.Size([90, 1]))"
      ]
     },
     "execution_count": 2,
     "metadata": {},
     "output_type": "execute_result"
    }
   ],
   "execution_count": 2
  },
  {
   "cell_type": "code",
   "metadata": {
    "ExecuteTime": {
     "end_time": "2025-02-15T12:55:45.807519Z",
     "start_time": "2025-02-15T12:55:34.626845Z"
    }
   },
   "source": [
    "# Define the LSTM Model\n",
    "# TODO: Add LSTM layer, forward implementation\n",
    "class LSTMModel(nn.Module):\n",
    "    # 스터디:\n",
    "    # https://pytorch.org/docs/stable/generated/torch.nn.LSTM.html\n",
    "    # 저는 마지막 시퀀스의 hidden state를 활용하지 않고 전체 시퀀스를 기반으로 사용해봤습니다\n",
    "\n",
    "    def __init__(self):\n",
    "        super(LSTMModel, self).__init__()\n",
    "        self.lstm = nn.LSTM(1, 50, 1) # input_size, hidden_size, num_layers\n",
    "        self.fc = nn.Linear(50, 1) # upproj 한거 다시 원래대로 돌려놓기\n",
    "        self.out = nn.Linear(10, 1) # 시퀀스 downproj\n",
    "    def forward(self, x):\n",
    "        x, grad = self.lstm(x)\n",
    "        x = self.fc(x) # 이거 거치면 (90, 10, 1) 이 됨. 각 시퀀스가 90개 차원인듯?\n",
    "        x = torch.flatten(x, start_dim=1) # 마지막 1 차원 버리기\n",
    "        x = self.out(x) # (90, 1)로 projection\n",
    "        return x\n",
    "# Initialize the model, loss function, and optimizer\n",
    "model = LSTMModel()\n",
    "criterion = nn.MSELoss()\n",
    "optimizer = optim.Adam(model.parameters(), lr=0.01)"
   ],
   "outputs": [],
   "execution_count": 3
  },
  {
   "cell_type": "code",
   "metadata": {
    "ExecuteTime": {
     "end_time": "2025-02-15T13:08:48.041117Z",
     "start_time": "2025-02-15T13:08:48.033988Z"
    }
   },
   "source": [
    "# Define the LSTM Model\n",
    "# TODO: Add LSTM layer, forward implementation\n",
    "class LSTMModel(nn.Module):\n",
    "    # https://pytorch.org/docs/stable/generated/torch.nn.LSTM.html\n",
    "    # 이건 last_hidden_state 활용한 방법\n",
    "\n",
    "    def __init__(self):\n",
    "        super(LSTMModel, self).__init__()\n",
    "        self.lstm = nn.LSTM(1, 50, 1, batch_first=True) # input_size, hidden_size, num_layers\n",
    "        self.fc = nn.Linear(50, 1) # upproj 한거 다시 원래대로 돌려놓기\n",
    "    def forward(self, x):\n",
    "        x, shape = self.lstm(x)\n",
    "        x = x[:, -1, :]\n",
    "        x = self.fc(x)\n",
    "        return x\n",
    "# Initialize the model, loss function, and optimizer\n",
    "model = LSTMModel()\n",
    "criterion = nn.MSELoss()\n",
    "optimizer = optim.Adam(model.parameters(), lr=0.01)"
   ],
   "outputs": [],
   "execution_count": 7
  },
  {
   "cell_type": "code",
   "metadata": {
    "ExecuteTime": {
     "end_time": "2025-02-15T12:56:00.334986Z",
     "start_time": "2025-02-15T12:55:58.889654Z"
    }
   },
   "source": [
    "prediction = model(X_seq)\n",
    "prediction.shape"
   ],
   "outputs": [
    {
     "data": {
      "text/plain": [
       "torch.Size([90, 1])"
      ]
     },
     "execution_count": 5,
     "metadata": {},
     "output_type": "execute_result"
    }
   ],
   "execution_count": 5
  },
  {
   "cell_type": "code",
   "metadata": {
    "ExecuteTime": {
     "end_time": "2025-02-15T13:08:52.773342Z",
     "start_time": "2025-02-15T13:08:51.090011Z"
    }
   },
   "source": [
    "# Training loop\n",
    "epochs = 500\n",
    "for epoch in range(epochs):\n",
    "    # Forward pass\n",
    "    predictions = model(X_seq)\n",
    "    loss = criterion(predictions, y_seq)\n",
    "\n",
    "    # Backward pass and optimization\n",
    "    optimizer.zero_grad()\n",
    "    loss.backward()\n",
    "    optimizer.step()\n",
    "\n",
    "    # Log progress every 50 epochs\n",
    "    if (epoch + 1) % 50 == 0:\n",
    "        print(f\"Epoch [{epoch + 1}/{epochs}], Loss: {loss.item():.4f}\")"
   ],
   "outputs": [
    {
     "name": "stdout",
     "output_type": "stream",
     "text": [
      "Epoch [50/500], Loss: 0.0008\n",
      "Epoch [100/500], Loss: 0.0000\n",
      "Epoch [150/500], Loss: 0.0000\n",
      "Epoch [200/500], Loss: 0.0000\n",
      "Epoch [250/500], Loss: 0.0000\n",
      "Epoch [300/500], Loss: 0.0000\n",
      "Epoch [350/500], Loss: 0.0000\n",
      "Epoch [400/500], Loss: 0.0000\n",
      "Epoch [450/500], Loss: 0.0000\n",
      "Epoch [500/500], Loss: 0.0001\n"
     ]
    }
   ],
   "execution_count": 8
  },
  {
   "cell_type": "markdown",
   "metadata": {},
   "source": [
    "로스 0.001 미만으로 찍히면 통과하겠습니다. RNN이 완전 0을 만들 수 있긴 한데 굳이?"
   ]
  },
  {
   "cell_type": "code",
   "metadata": {
    "ExecuteTime": {
     "end_time": "2025-02-15T13:08:57.466308Z",
     "start_time": "2025-02-15T13:08:56.881202Z"
    }
   },
   "source": [
    "# Testing on new data\n",
    "test_steps = 20  # Ensure this is greater than sequence_length\n",
    "X_test = torch.linspace(4 * 3.14159, 5 * 3.14159, steps=test_steps).unsqueeze(1)\n",
    "y_test = torch.sin(X_test)\n",
    "\n",
    "# Create test input sequences\n",
    "X_test_seq, _ = create_in_out_sequences(y_test, sequence_length)\n",
    "\n",
    "with torch.no_grad():\n",
    "    predictions = model(X_test_seq)\n",
    "    print(f\"Predictions for new sequence: {predictions.squeeze().tolist()}\")\n"
   ],
   "outputs": [
    {
     "name": "stdout",
     "output_type": "stream",
     "text": [
      "Predictions for new sequence: [1.0141814947128296, 0.9903647899627686, 0.9388716220855713, 0.8606303930282593, 0.7574792504310608, 0.6322651505470276, 0.4888419508934021, 0.33186963200569153, 0.16640979051589966, -0.0025227442383766174]\n"
     ]
    }
   ],
   "execution_count": 9
  }
 ],
 "metadata": {
  "kernelspec": {
   "display_name": ".venv",
   "language": "python",
   "name": "python3"
  },
  "language_info": {
   "codemirror_mode": {
    "name": "ipython",
    "version": 3
   },
   "file_extension": ".py",
   "mimetype": "text/x-python",
   "name": "python",
   "nbconvert_exporter": "python",
   "pygments_lexer": "ipython3",
   "version": "3.11.11"
  }
 },
 "nbformat": 4,
 "nbformat_minor": 2
}
