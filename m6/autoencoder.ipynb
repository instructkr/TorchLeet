{
 "cells": [
  {
   "cell_type": "markdown",
   "metadata": {},
   "source": [
    "# Problem: Train an Autoencoder for Anomaly Detection\n",
    "\n",
    "### Problem Statement\n",
    "You are tasked with implementing an **autoencoder** model for anomaly detection. The model will be trained on the **MNIST dataset**, and anomalies will be detected based on the reconstruction error. The autoencoder consists of an encoder to compress the input and a decoder to reconstruct the image. The difference between the original image and the reconstructed image will be used to detect anomalies.\n",
    "\n",
    "### Requirements\n",
    "1. **Define the Autoencoder Architecture**:\n",
    "   - **Encoder**:\n",
    "     - Implement a series of convolutional layers followed by max-pooling layers.\n",
    "     - The encoder should progressively reduce the spatial dimensions of the input image, capturing the most important features.\n",
    "   - **Decoder**:\n",
    "     - Implement a series of transposed convolutional layers (also known as deconvolutional layers) to upsample the compressed representation back to the original image size.\n",
    "     - Use a **Sigmoid activation** function in the final layer to ensure that the output pixel values are between 0 and 1.\n",
    "\n",
    "2. **Forward Pass**:\n",
    "   - Implement the forward method where the input image is passed through the encoder to obtain a compressed representation, followed by passing it through the decoder to reconstruct the image.\n",
    "\n",
    "### Constraints\n",
    "- The autoencoder should work on the MNIST dataset, which consists of 28x28 grayscale images.\n",
    "- Ensure that the output of the decoder matches the original image size.\n",
    "- Use **Sigmoid activation** in the final layer to constrain the output pixel values between 0 and 1.\n",
    "\n",
    "<details>\n",
    "  <summary>💡 Hint</summary>\n",
    "  Focus on the encoder to downsample the input and the decoder to upsample and reconstruct the image.\n",
    "</details>"
   ]
  },
  {
   "cell_type": "code",
   "execution_count": 1,
   "metadata": {},
   "outputs": [],
   "source": [
    "import torch\n",
    "import torch.nn as nn\n",
    "import torch.optim as optim\n",
    "import torchvision\n",
    "import torchvision.transforms as transforms\n",
    "import numpy as np\n",
    "import matplotlib.pyplot as plt"
   ]
  },
  {
   "cell_type": "code",
   "execution_count": null,
   "metadata": {},
   "outputs": [],
   "source": [
    "# Load MNIST dataset\n",
    "transform = transforms.Compose([transforms.ToTensor(), transforms.Normalize((0.5,), (0.5,))])\n",
    "\n",
    "train_dataset = torchvision.datasets.MNIST(root='./data', train=True, download=True, transform=transform)\n",
    "train_loader = torch.utils.data.DataLoader(train_dataset, batch_size=64, shuffle=True)\n",
    "\n",
    "test_dataset = torchvision.datasets.MNIST(root='./data', train=False, download=True, transform=transform)\n",
    "test_loader = torch.utils.data.DataLoader(test_dataset, batch_size=64, shuffle=False)"
   ]
  },
  {
   "cell_type": "code",
   "execution_count": 3,
   "metadata": {},
   "outputs": [],
   "source": [
    "# Define an Autoencoder model\n",
    "# TODO: Implement the autoencoder architecture\n",
    "class Autoencoder(nn.Module):\n",
    "    def __init__(self):\n",
    "        # init\n",
    "        super(Autoencoder, self).__init__()\n",
    "        self.activation = nn.ReLU()\n",
    "        # Encoder\n",
    "        self.encoder = nn.Sequential( # 모험정신은 좋다! CNN 오토인코더로 가볼거다.\n",
    "            \n",
    "        )\n",
    "        # Decoder\n",
    "        self.decoder = ...\n",
    "\n",
    "    def forward(self, x):\n",
    "        ...\n",
    "\n",
    "# Initialize the model, loss function, and optimizer\n",
    "model = Autoencoder()\n",
    "criterion = nn.MSELoss()\n",
    "optimizer = optim.Adam(model.parameters(), lr=0.001)"
   ]
  },
  {
   "cell_type": "code",
   "execution_count": 4,
   "metadata": {},
   "outputs": [
    {
     "name": "stdout",
     "output_type": "stream",
     "text": [
      "Epoch [1/10], Loss: 0.9243\n",
      "Epoch [2/10], Loss: 0.8939\n",
      "Epoch [3/10], Loss: 0.9047\n",
      "Epoch [4/10], Loss: 0.8792\n",
      "Epoch [5/10], Loss: 0.8849\n",
      "Epoch [6/10], Loss: 0.8775\n",
      "Epoch [7/10], Loss: 0.8920\n",
      "Epoch [8/10], Loss: 0.8684\n",
      "Epoch [9/10], Loss: 0.8748\n",
      "Epoch [10/10], Loss: 0.8688\n"
     ]
    }
   ],
   "source": [
    "# Training loop\n",
    "epochs = 10\n",
    "for epoch in range(epochs):\n",
    "    for images, _ in train_loader:\n",
    "        # Forward pass\n",
    "        reconstructed = model(images)\n",
    "        loss = criterion(reconstructed, images)\n",
    "\n",
    "        # Backward pass and optimization\n",
    "        optimizer.zero_grad()\n",
    "        loss.backward()\n",
    "        optimizer.step()\n",
    "\n",
    "    print(f\"Epoch [{epoch + 1}/{epochs}], Loss: {loss.item():.4f}\")"
   ]
  },
  {
   "cell_type": "code",
   "execution_count": 5,
   "metadata": {},
   "outputs": [],
   "source": [
    "# Detect anomalies using reconstruction error\n",
    "threshold = 0.1  # Define a threshold for anomaly detection\n",
    "model.eval()\n",
    "anomalies = []\n",
    "with torch.no_grad():\n",
    "    for images, _ in test_loader:\n",
    "        reconstructed = model(images)\n",
    "        loss = criterion(reconstructed, images)\n",
    "        \n",
    "        # If reconstruction error exceeds the threshold, mark it as an anomaly\n",
    "        if loss.item() > threshold:\n",
    "            anomalies.append(images)"
   ]
  },
  {
   "cell_type": "code",
   "execution_count": 9,
   "metadata": {},
   "outputs": [
    {
     "name": "stdout",
     "output_type": "stream",
     "text": [
      "Anomaly image shape: torch.Size([28, 28])\n"
     ]
    },
    {
     "data": {
      "image/png": "[encoded data removed]",
      "text/plain": [
       "<Figure size 640x480 with 1 Axes>"
      ]
     },
     "metadata": {},
     "output_type": "display_data"
    }
   ],
   "source": [
    "# Visualize anomalies\n",
    "if anomalies:\n",
    "    # Select the first anomaly and remove the channel dimension for visualization\n",
    "    anomaly_image = anomalies[0][0].squeeze()  # Remove the channel dimension (1)\n",
    "    print(f\"Anomaly image shape: {anomaly_image.shape}\")  # Optional: Check the shape of the image\n",
    "    plt.imshow(anomaly_image.cpu().numpy(), cmap='gray')  # Convert tensor to NumPy array for visualization\n",
    "    plt.show()\n",
    "else:\n",
    "    print(\"No anomalies detected.\")\n"
   ]
  }
 ],
 "metadata": {
  "kernelspec": {
   "display_name": ".venv",
   "language": "python",
   "name": "python3"
  },
  "language_info": {
   "codemirror_mode": {
    "name": "ipython",
    "version": 3
   },
   "file_extension": ".py",
   "mimetype": "text/x-python",
   "name": "python",
   "nbconvert_exporter": "python",
   "pygments_lexer": "ipython3",
   "version": "3.10.4"
  }
 },
 "nbformat": 4,
 "nbformat_minor": 2
}
